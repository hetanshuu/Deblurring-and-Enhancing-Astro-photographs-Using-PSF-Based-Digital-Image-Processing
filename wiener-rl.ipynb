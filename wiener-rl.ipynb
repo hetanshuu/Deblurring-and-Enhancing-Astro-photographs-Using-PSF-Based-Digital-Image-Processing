{
  "nbformat": 4,
  "nbformat_minor": 0,
  "metadata": {
    "colab": {
      "provenance": []
    },
    "kernelspec": {
      "name": "python3",
      "display_name": "Python 3"
    },
    "language_info": {
      "name": "python"
    }
  },
  "cells": [
    {
      "cell_type": "code",
      "execution_count": null,
      "metadata": {
        "id": "om-DeLEcmagM"
      },
      "outputs": [],
      "source": [
        "import numpy as np\n",
        "import cv2\n",
        "import matplotlib.pyplot as plt\n",
        "from skimage import color, img_as_float, restoration\n",
        "from numpy.fft import fft2, ifft2, fftshift, ifftshift\n",
        "\n",
        "# --- Load Image ---\n",
        "img = cv2.imread(\"/content/Hst12.jpg\")\n",
        "astro = color.rgb2gray(img_as_float(img))\n",
        "\n",
        "# --- Define PSF (example: Gaussian 5x5) ---\n",
        "def gaussian_psf(size=5, sigma=1.0):\n",
        "    ax = np.linspace(-(size-1)/2, (size-1)/2, size)\n",
        "    xx, yy = np.meshgrid(ax, ax)\n",
        "    psf = np.exp(-(xx**2 + yy**2) / (2*sigma**2))\n",
        "    psf /= psf.sum()\n",
        "    return psf\n",
        "\n",
        "psf = gaussian_psf(size=7, sigma=1.2)\n",
        "\n",
        "def wiener_filter(img, kernel, K):\n",
        "\tkernel /= np.sum(kernel)\n",
        "\tdummy = np.copy(img)\n",
        "\tdummy = fft2(dummy)\n",
        "\tkernel = fft2(kernel, s = img.shape)\n",
        "\tkernel = np.conj(kernel) / (np.abs(kernel) ** 2 + K)\n",
        "\tdummy = dummy * kernel\n",
        "\tdummy = np.abs(ifft2(dummy))\n",
        "\treturn dummy\n",
        "\n",
        "# --- Apply Wiener filter ---\n",
        "astro_wiener = wiener_filter(astro, psf, K=0.5)  # tune K (0.001–0.02)\n",
        "\n",
        "# --- Richardson-Lucy deconvolution ---\n",
        "deconv_rl = restoration.richardson_lucy(astro_wiener, psf, num_iter=30, clip=True)\n",
        "\n",
        "# --- Display Results ---\n",
        "plt.figure(figsize=(12,5))\n",
        "plt.subplot(1,2,1)\n",
        "plt.imshow(astro, cmap='gray')\n",
        "plt.title(\"Original Image\")\n",
        "plt.axis('off')\n",
        "\n",
        "plt.subplot(1,2,2)\n",
        "plt.imshow(deconv_rl, cmap='gray')\n",
        "plt.title(\"After Wiener + Richardson-Lucy Deconvolution\")\n",
        "plt.axis('off')\n",
        "\n",
        "plt.tight_layout()\n",
        "plt.show()\n",
        "\n",
        "# --- Save outputs ---\n",
        "cv2.imwrite(\"Wiener_filtered.png\", (astro_wiener * 255).astype(np.uint8))\n",
        "cv2.imwrite(\"Wiener_RL.png\", (deconv_rl * 255).astype(np.uint8))"
      ]
    }
  ]
}